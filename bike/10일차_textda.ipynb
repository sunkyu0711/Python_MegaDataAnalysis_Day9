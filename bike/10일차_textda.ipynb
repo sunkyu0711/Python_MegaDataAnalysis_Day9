{
 "cells": [
  {
   "cell_type": "code",
   "execution_count": 8,
   "metadata": {},
   "outputs": [
    {
     "name": "stdout",
     "output_type": "stream",
     "text": [
      "Defaulting to user installation because normal site-packages is not writeableNote: you may need to restart the kernel to use updated packages.\n",
      "\n",
      "Requirement already satisfied: pip in c:\\users\\sunky\\appdata\\local\\packages\\pythonsoftwarefoundation.python.3.13_qbz5n2kfra8p0\\localcache\\local-packages\\python313\\site-packages (25.0)\n",
      "Defaulting to user installation because normal site-packages is not writeableNote: you may need to restart the kernel to use updated packages.\n"
     ]
    },
    {
     "name": "stderr",
     "output_type": "stream",
     "text": [
      "WARNING: Requirement 'JPype1-0.5.7-cp27-none-win_amd64.whl' looks like a filename, but the file does not exist\n",
      "ERROR: JPype1-0.5.7-cp27-none-win_amd64.whl is not a supported wheel on this platform.\n"
     ]
    },
    {
     "name": "stdout",
     "output_type": "stream",
     "text": [
      "\n"
     ]
    }
   ],
   "source": [
    "%pip install --upgrade pip\n",
    "%pip install JPype1-0.5.7-cp27-none-win_amd64.whl"
   ]
  },
  {
   "cell_type": "code",
   "execution_count": 9,
   "metadata": {},
   "outputs": [
    {
     "name": "stdout",
     "output_type": "stream",
     "text": [
      "Defaulting to user installation because normal site-packages is not writeable\n",
      "Requirement already satisfied: KoNLPy in c:\\users\\sunky\\appdata\\local\\packages\\pythonsoftwarefoundation.python.3.13_qbz5n2kfra8p0\\localcache\\local-packages\\python313\\site-packages (0.6.0)\n",
      "Requirement already satisfied: JPype1>=0.7.0 in c:\\users\\sunky\\appdata\\local\\packages\\pythonsoftwarefoundation.python.3.13_qbz5n2kfra8p0\\localcache\\local-packages\\python313\\site-packages (from KoNLPy) (1.5.2)\n",
      "Requirement already satisfied: lxml>=4.1.0 in c:\\users\\sunky\\appdata\\local\\packages\\pythonsoftwarefoundation.python.3.13_qbz5n2kfra8p0\\localcache\\local-packages\\python313\\site-packages (from KoNLPy) (5.3.0)\n",
      "Requirement already satisfied: numpy>=1.6 in c:\\users\\sunky\\appdata\\local\\packages\\pythonsoftwarefoundation.python.3.13_qbz5n2kfra8p0\\localcache\\local-packages\\python313\\site-packages (from KoNLPy) (2.2.2)\n",
      "Requirement already satisfied: packaging in c:\\users\\sunky\\appdata\\local\\packages\\pythonsoftwarefoundation.python.3.13_qbz5n2kfra8p0\\localcache\\local-packages\\python313\\site-packages (from JPype1>=0.7.0->KoNLPy) (24.2)\n",
      "Note: you may need to restart the kernel to use updated packages.\n"
     ]
    }
   ],
   "source": [
    "%pip install KoNLPy"
   ]
  },
  {
   "cell_type": "code",
   "execution_count": 1,
   "metadata": {},
   "outputs": [
    {
     "name": "stdout",
     "output_type": "stream",
     "text": [
      "['꿈', '의', '거처']\n"
     ]
    }
   ],
   "source": [
    "from konlpy.tag import Okt\n",
    "\n",
    "okt=Okt() # 객체 생성\n",
    "token=okt.morphs('꿈의 거처')\n",
    "print(token)"
   ]
  },
  {
   "cell_type": "code",
   "execution_count": 2,
   "metadata": {},
   "outputs": [
    {
     "name": "stdout",
     "output_type": "stream",
     "text": [
      "[('꿈', 'Noun'), ('의', 'Josa'), ('거처', 'Noun')]\n"
     ]
    }
   ],
   "source": [
    "okt=Okt()\n",
    "token=okt.pos('꿈의 거처')\n",
    "print(token)"
   ]
  },
  {
   "cell_type": "code",
   "execution_count": 3,
   "metadata": {},
   "outputs": [
    {
     "name": "stdout",
     "output_type": "stream",
     "text": [
      "[('달이', 'Noun'), ('참', 'Verb'), ('예쁘다고', 'Adjective')]\n"
     ]
    }
   ],
   "source": [
    "okt=Okt()\n",
    "token=okt.pos('달이 참 예쁘다고')\n",
    "print(token)"
   ]
  },
  {
   "cell_type": "code",
   "execution_count": 4,
   "metadata": {},
   "outputs": [
    {
     "name": "stdout",
     "output_type": "stream",
     "text": [
      "[('\\n', 'Foreign'), ('동해', 'Noun'), ('물', 'Noun'), ('과', 'Josa'), ('백두산', 'Noun'), ('이', 'Josa'), ('마르고', 'Noun'), ('닳도록', 'Verb'), ('\\n', 'Foreign'), ('하느님', 'Noun'), ('이', 'Josa'), ('보우', 'Noun'), ('하사', 'Noun'), ('우리나라', 'Noun'), ('만세', 'Noun'), ('\\n', 'Foreign'), ('무궁화', 'Noun'), ('삼천리', 'Noun'), ('화려', 'Noun'), ('강산', 'Noun'), ('\\n', 'Foreign'), ('대한', 'Noun'), ('사람', 'Noun'), ('대한', 'Noun'), ('으로', 'Josa'), ('길이', 'Noun'), ('보전', 'Noun'), ('하세', 'Verb'), ('\\n', 'Foreign'), ('남산', 'Noun'), ('위', 'Noun'), ('에', 'Josa'), ('저', 'Noun'), ('소나무', 'Noun'), ('철갑', 'Noun'), ('을', 'Josa'), ('두른', 'Verb'), ('듯', 'Noun'), ('\\n', 'Foreign'), ('바람', 'Noun'), ('서리', 'Noun'), ('불변', 'Noun'), ('함', 'Noun'), ('은', 'Josa'), ('우리', 'Noun'), ('기상', 'Noun'), ('일세', 'Verb'), ('\\n', 'Foreign'), ('무궁화', 'Noun'), ('삼천리', 'Noun'), ('화려', 'Noun'), ('강산', 'Noun'), ('\\n', 'Foreign'), ('대한', 'Noun'), ('사람', 'Noun'), ('대한', 'Noun'), ('으로', 'Josa'), ('길이', 'Noun'), ('보전', 'Noun'), ('하세', 'Verb'), ('\\n', 'Foreign'), ('가을', 'Noun'), ('하늘', 'Noun'), ('공', 'Modifier'), ('활', 'Noun'), ('한', 'Determiner'), ('데', 'Noun'), ('높고', 'Adjective'), ('구름', 'Noun'), ('없이', 'Adverb'), ('\\n', 'Foreign'), ('밝은', 'Verb'), ('달', 'Noun'), ('은', 'Josa'), ('우리', 'Noun'), ('가슴', 'Noun'), ('일편단심', 'Noun'), ('일세', 'Verb'), ('\\n', 'Foreign'), ('무궁화', 'Noun'), ('삼천리', 'Noun'), ('화려', 'Noun'), ('강산', 'Noun'), ('\\n', 'Foreign'), ('대한', 'Noun'), ('사람', 'Noun'), ('대한', 'Noun'), ('으로', 'Josa'), ('길이', 'Noun'), ('보전', 'Noun'), ('하세', 'Verb'), ('\\n', 'Foreign'), ('이', 'Noun'), ('기상', 'Noun'), ('과', 'Josa'), ('이', 'Noun'), ('맘', 'Noun'), ('으로', 'Josa'), ('충성', 'Noun'), ('을', 'Josa'), ('다', 'Adverb'), ('하여', 'Verb'), ('\\n', 'Foreign'), ('괴로우나', 'Adjective'), ('즐거우나', 'Adjective'), ('나라', 'Noun'), ('사랑', 'Noun'), ('하세', 'Verb'), ('\\n', 'Foreign'), ('무궁화', 'Noun'), ('삼천리', 'Noun'), ('화려', 'Noun'), ('강산', 'Noun'), ('\\n', 'Foreign'), ('대한', 'Noun'), ('사람', 'Noun'), ('대한', 'Noun'), ('으로', 'Josa'), ('길이', 'Noun'), ('보전', 'Noun'), ('하세', 'Verb'), ('\\n', 'Foreign')]\n"
     ]
    }
   ],
   "source": [
    "okt=Okt()\n",
    "text='''\n",
    "동해 물과 백두산이 마르고 닳도록\n",
    "하느님이 보우하사 우리나라 만세\n",
    "무궁화 삼천리 화려강산\n",
    "대한 사람 대한으로 길이 보전하세\n",
    "남산 위에 저 소나무 철갑을 두른 듯\n",
    "바람 서리 불변함은 우리 기상일세\n",
    "무궁화 삼천리 화려강산\n",
    "대한 사람 대한으로 길이 보전하세\n",
    "가을 하늘 공활한데 높고 구름 없이\n",
    "밝은 달은 우리 가슴 일편단심일세\n",
    "무궁화 삼천리 화려강산\n",
    "대한 사람 대한으로 길이 보전하세\n",
    "이 기상과 이 맘으로 충성을 다하여\n",
    "괴로우나 즐거우나 나라 사랑하세\n",
    "무궁화 삼천리 화려강산\n",
    "대한 사람 대한으로 길이 보전하세\n",
    "'''\n",
    "token=okt.pos(text)\n",
    "print(token)"
   ]
  },
  {
   "cell_type": "code",
   "execution_count": 5,
   "metadata": {},
   "outputs": [],
   "source": [
    "import collections"
   ]
  },
  {
   "cell_type": "code",
   "execution_count": 6,
   "metadata": {},
   "outputs": [
    {
     "name": "stdout",
     "output_type": "stream",
     "text": [
      "\n",
      " Foreign\n",
      "동해 Noun\n",
      "물 Noun\n",
      "과 Josa\n",
      "백두산 Noun\n",
      "이 Josa\n",
      "마르고 Noun\n",
      "닳도록 Verb\n",
      "\n",
      " Foreign\n",
      "하느님 Noun\n",
      "이 Josa\n",
      "보우 Noun\n",
      "하사 Noun\n",
      "우리나라 Noun\n",
      "만세 Noun\n",
      "\n",
      " Foreign\n",
      "무궁화 Noun\n",
      "삼천리 Noun\n",
      "화려 Noun\n",
      "강산 Noun\n",
      "\n",
      " Foreign\n",
      "대한 Noun\n",
      "사람 Noun\n",
      "대한 Noun\n",
      "으로 Josa\n",
      "길이 Noun\n",
      "보전 Noun\n",
      "하세 Verb\n",
      "\n",
      " Foreign\n",
      "남산 Noun\n",
      "위 Noun\n",
      "에 Josa\n",
      "저 Noun\n",
      "소나무 Noun\n",
      "철갑 Noun\n",
      "을 Josa\n",
      "두른 Verb\n",
      "듯 Noun\n",
      "\n",
      " Foreign\n",
      "바람 Noun\n",
      "서리 Noun\n",
      "불변 Noun\n",
      "함 Noun\n",
      "은 Josa\n",
      "우리 Noun\n",
      "기상 Noun\n",
      "일세 Verb\n",
      "\n",
      " Foreign\n",
      "무궁화 Noun\n",
      "삼천리 Noun\n",
      "화려 Noun\n",
      "강산 Noun\n",
      "\n",
      " Foreign\n",
      "대한 Noun\n",
      "사람 Noun\n",
      "대한 Noun\n",
      "으로 Josa\n",
      "길이 Noun\n",
      "보전 Noun\n",
      "하세 Verb\n",
      "\n",
      " Foreign\n",
      "가을 Noun\n",
      "하늘 Noun\n",
      "공 Modifier\n",
      "활 Noun\n",
      "한 Determiner\n",
      "데 Noun\n",
      "높고 Adjective\n",
      "구름 Noun\n",
      "없이 Adverb\n",
      "\n",
      " Foreign\n",
      "밝은 Verb\n",
      "달 Noun\n",
      "은 Josa\n",
      "우리 Noun\n",
      "가슴 Noun\n",
      "일편단심 Noun\n",
      "일세 Verb\n",
      "\n",
      " Foreign\n",
      "무궁화 Noun\n",
      "삼천리 Noun\n",
      "화려 Noun\n",
      "강산 Noun\n",
      "\n",
      " Foreign\n",
      "대한 Noun\n",
      "사람 Noun\n",
      "대한 Noun\n",
      "으로 Josa\n",
      "길이 Noun\n",
      "보전 Noun\n",
      "하세 Verb\n",
      "\n",
      " Foreign\n",
      "이 Noun\n",
      "기상 Noun\n",
      "과 Josa\n",
      "이 Noun\n",
      "맘 Noun\n",
      "으로 Josa\n",
      "충성 Noun\n",
      "을 Josa\n",
      "다 Adverb\n",
      "하여 Verb\n",
      "\n",
      " Foreign\n",
      "괴로우나 Adjective\n",
      "즐거우나 Adjective\n",
      "나라 Noun\n",
      "사랑 Noun\n",
      "하세 Verb\n",
      "\n",
      " Foreign\n",
      "무궁화 Noun\n",
      "삼천리 Noun\n",
      "화려 Noun\n",
      "강산 Noun\n",
      "\n",
      " Foreign\n",
      "대한 Noun\n",
      "사람 Noun\n",
      "대한 Noun\n",
      "으로 Josa\n",
      "길이 Noun\n",
      "보전 Noun\n",
      "하세 Verb\n",
      "\n",
      " Foreign\n"
     ]
    }
   ],
   "source": [
    "okt=Okt()\n",
    "text='''\n",
    "동해 물과 백두산이 마르고 닳도록\n",
    "하느님이 보우하사 우리나라 만세\n",
    "무궁화 삼천리 화려강산\n",
    "대한 사람 대한으로 길이 보전하세\n",
    "남산 위에 저 소나무 철갑을 두른 듯\n",
    "바람 서리 불변함은 우리 기상일세\n",
    "무궁화 삼천리 화려강산\n",
    "대한 사람 대한으로 길이 보전하세\n",
    "가을 하늘 공활한데 높고 구름 없이\n",
    "밝은 달은 우리 가슴 일편단심일세\n",
    "무궁화 삼천리 화려강산\n",
    "대한 사람 대한으로 길이 보전하세\n",
    "이 기상과 이 맘으로 충성을 다하여\n",
    "괴로우나 즐거우나 나라 사랑하세\n",
    "무궁화 삼천리 화려강산\n",
    "대한 사람 대한으로 길이 보전하세\n",
    "'''\n",
    "token=okt.pos(text)\n",
    "\n",
    "clist=[]\n",
    "for word, tag in token:\n",
    "    print(word, tag)"
   ]
  },
  {
   "cell_type": "code",
   "execution_count": 7,
   "metadata": {},
   "outputs": [
    {
     "name": "stdout",
     "output_type": "stream",
     "text": [
      "[('대한', 8), ('무궁화', 4), ('삼천리', 4), ('화려', 4), ('강산', 4), ('사람', 4), ('길이', 4), ('보전', 4), ('우리', 2), ('기상', 2)]\n"
     ]
    }
   ],
   "source": [
    "clist=[]\n",
    "for word, tag in token:\n",
    "    if tag in ['Noun','Adjective']:\n",
    "        clist.append(word)\n",
    "counts=collections.Counter(clist)\n",
    "tag=counts.most_common(10)\n",
    "print(tag)"
   ]
  },
  {
   "cell_type": "code",
   "execution_count": 8,
   "metadata": {},
   "outputs": [
    {
     "name": "stdout",
     "output_type": "stream",
     "text": [
      "Defaulting to user installation because normal site-packages is not writeable\n",
      "Collecting wordcloud\n",
      "  Downloading wordcloud-1.9.4-cp313-cp313-win_amd64.whl.metadata (3.5 kB)\n",
      "Requirement already satisfied: numpy>=1.6.1 in c:\\users\\sunky\\appdata\\local\\packages\\pythonsoftwarefoundation.python.3.13_qbz5n2kfra8p0\\localcache\\local-packages\\python313\\site-packages (from wordcloud) (2.2.2)\n",
      "Requirement already satisfied: pillow in c:\\users\\sunky\\appdata\\local\\packages\\pythonsoftwarefoundation.python.3.13_qbz5n2kfra8p0\\localcache\\local-packages\\python313\\site-packages (from wordcloud) (11.1.0)\n",
      "Collecting matplotlib (from wordcloud)\n",
      "  Downloading matplotlib-3.10.0-cp313-cp313-win_amd64.whl.metadata (11 kB)\n",
      "Collecting contourpy>=1.0.1 (from matplotlib->wordcloud)\n",
      "  Downloading contourpy-1.3.1-cp313-cp313-win_amd64.whl.metadata (5.4 kB)\n",
      "Collecting cycler>=0.10 (from matplotlib->wordcloud)\n",
      "  Downloading cycler-0.12.1-py3-none-any.whl.metadata (3.8 kB)\n",
      "Collecting fonttools>=4.22.0 (from matplotlib->wordcloud)\n",
      "  Downloading fonttools-4.55.8-cp313-cp313-win_amd64.whl.metadata (103 kB)\n",
      "Collecting kiwisolver>=1.3.1 (from matplotlib->wordcloud)\n",
      "  Downloading kiwisolver-1.4.8-cp313-cp313-win_amd64.whl.metadata (6.3 kB)\n",
      "Requirement already satisfied: packaging>=20.0 in c:\\users\\sunky\\appdata\\local\\packages\\pythonsoftwarefoundation.python.3.13_qbz5n2kfra8p0\\localcache\\local-packages\\python313\\site-packages (from matplotlib->wordcloud) (24.2)\n",
      "Collecting pyparsing>=2.3.1 (from matplotlib->wordcloud)\n",
      "  Downloading pyparsing-3.2.1-py3-none-any.whl.metadata (5.0 kB)\n",
      "Requirement already satisfied: python-dateutil>=2.7 in c:\\users\\sunky\\appdata\\local\\packages\\pythonsoftwarefoundation.python.3.13_qbz5n2kfra8p0\\localcache\\local-packages\\python313\\site-packages (from matplotlib->wordcloud) (2.9.0.post0)\n",
      "Requirement already satisfied: six>=1.5 in c:\\users\\sunky\\appdata\\local\\packages\\pythonsoftwarefoundation.python.3.13_qbz5n2kfra8p0\\localcache\\local-packages\\python313\\site-packages (from python-dateutil>=2.7->matplotlib->wordcloud) (1.17.0)\n",
      "Downloading wordcloud-1.9.4-cp313-cp313-win_amd64.whl (300 kB)\n",
      "Downloading matplotlib-3.10.0-cp313-cp313-win_amd64.whl (8.0 MB)\n",
      "   ---------------------------------------- 0.0/8.0 MB ? eta -:--:--\n",
      "   --------------------------- ------------ 5.5/8.0 MB 30.2 MB/s eta 0:00:01\n",
      "   ---------------------------------------- 8.0/8.0 MB 22.4 MB/s eta 0:00:00\n",
      "Downloading contourpy-1.3.1-cp313-cp313-win_amd64.whl (220 kB)\n",
      "Downloading cycler-0.12.1-py3-none-any.whl (8.3 kB)\n",
      "Downloading fonttools-4.55.8-cp313-cp313-win_amd64.whl (2.2 MB)\n",
      "   ---------------------------------------- 0.0/2.2 MB ? eta -:--:--\n",
      "   --------------------------------- ------ 1.8/2.2 MB 8.5 MB/s eta 0:00:01\n",
      "   ---------------------------------------- 2.2/2.2 MB 8.4 MB/s eta 0:00:00\n",
      "Downloading kiwisolver-1.4.8-cp313-cp313-win_amd64.whl (71 kB)\n",
      "Downloading pyparsing-3.2.1-py3-none-any.whl (107 kB)\n",
      "Installing collected packages: pyparsing, kiwisolver, fonttools, cycler, contourpy, matplotlib, wordcloud\n",
      "Successfully installed contourpy-1.3.1 cycler-0.12.1 fonttools-4.55.8 kiwisolver-1.4.8 matplotlib-3.10.0 pyparsing-3.2.1 wordcloud-1.9.4\n",
      "Note: you may need to restart the kernel to use updated packages.\n"
     ]
    }
   ],
   "source": [
    "%pip install wordcloud"
   ]
  },
  {
   "cell_type": "code",
   "execution_count": 9,
   "metadata": {},
   "outputs": [
    {
     "name": "stderr",
     "output_type": "stream",
     "text": [
      "<>:4: SyntaxWarning: invalid escape sequence '\\W'\n",
      "<>:4: SyntaxWarning: invalid escape sequence '\\W'\n",
      "C:\\Users\\sunky\\AppData\\Local\\Temp\\ipykernel_4540\\1879999235.py:4: SyntaxWarning: invalid escape sequence '\\W'\n",
      "  fpath='C:\\Windows\\Fonts\\malgunbd.ttf'\n"
     ]
    },
    {
     "data": {
      "text/plain": [
       "<matplotlib.image.AxesImage at 0x1b56624f230>"
      ]
     },
     "execution_count": 9,
     "metadata": {},
     "output_type": "execute_result"
    },
    {
     "data": {
      "image/png": "[encoded data removed]",
      "text/plain": [
       "<Figure size 1000x800 with 1 Axes>"
      ]
     },
     "metadata": {},
     "output_type": "display_data"
    }
   ],
   "source": [
    "from wordcloud import WordCloud\n",
    "import matplotlib.pyplot as plt\n",
    "\n",
    "fpath='C:\\Windows\\Fonts\\malgunbd.ttf'\n",
    "wc=WordCloud(font_path=fpath,background_color='skyblue') # width, height 등의 설정을 해도 됨\n",
    "cloud=wc.generate_from_frequencies(dict(tag))\n",
    "\n",
    "plt.figure(figsize=(10,8))\n",
    "plt.imshow(cloud)"
   ]
  },
  {
   "cell_type": "code",
   "execution_count": null,
   "metadata": {},
   "outputs": [],
   "source": []
  }
 ],
 "metadata": {
  "kernelspec": {
   "display_name": "Python 3",
   "language": "python",
   "name": "python3"
  },
  "language_info": {
   "codemirror_mode": {
    "name": "ipython",
    "version": 3
   },
   "file_extension": ".py",
   "mimetype": "text/x-python",
   "name": "python",
   "nbconvert_exporter": "python",
   "pygments_lexer": "ipython3",
   "version": "3.13.2"
  }
 },
 "nbformat": 4,
 "nbformat_minor": 2
}
